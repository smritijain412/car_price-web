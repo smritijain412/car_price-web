{
 "cells": [
  {
   "cell_type": "code",
   "execution_count": 1,
   "metadata": {
    "id": "QjXaXPCBiZUW"
   },
   "outputs": [],
   "source": [
    "#!pip install seaborn\n",
    "import numpy as np\n",
    "import pandas as pd\n",
    "import seaborn as sns\n",
    "import matplotlib.pyplot as plt\n",
    "import pickle"
   ]
  },
  {
   "cell_type": "code",
   "execution_count": 2,
   "metadata": {},
   "outputs": [],
   "source": [
    "data=pd.read_csv('cars_price.csv')"
   ]
  },
  {
   "cell_type": "code",
   "execution_count": 3,
   "metadata": {
    "id": "djsGKrl1il-M"
   },
   "outputs": [
    {
     "data": {
      "text/html": [
       "<div>\n",
       "<style scoped>\n",
       "    .dataframe tbody tr th:only-of-type {\n",
       "        vertical-align: middle;\n",
       "    }\n",
       "\n",
       "    .dataframe tbody tr th {\n",
       "        vertical-align: top;\n",
       "    }\n",
       "\n",
       "    .dataframe thead th {\n",
       "        text-align: right;\n",
       "    }\n",
       "</style>\n",
       "<table border=\"1\" class=\"dataframe\">\n",
       "  <thead>\n",
       "    <tr style=\"text-align: right;\">\n",
       "      <th></th>\n",
       "      <th>Unnamed: 0</th>\n",
       "      <th>make</th>\n",
       "      <th>model</th>\n",
       "      <th>priceUSD</th>\n",
       "      <th>year</th>\n",
       "      <th>condition</th>\n",
       "      <th>mileage(kilometers)</th>\n",
       "      <th>fuel_type</th>\n",
       "      <th>volume(cm3)</th>\n",
       "      <th>color</th>\n",
       "      <th>transmission</th>\n",
       "      <th>drive_unit</th>\n",
       "      <th>segment</th>\n",
       "    </tr>\n",
       "  </thead>\n",
       "  <tbody>\n",
       "    <tr>\n",
       "      <th>0</th>\n",
       "      <td>0</td>\n",
       "      <td>honda</td>\n",
       "      <td>accord</td>\n",
       "      <td>565</td>\n",
       "      <td>1993</td>\n",
       "      <td>with mileage</td>\n",
       "      <td>960015.0</td>\n",
       "      <td>petrol</td>\n",
       "      <td>2000.0</td>\n",
       "      <td>black</td>\n",
       "      <td>mechanics</td>\n",
       "      <td>front-wheel drive</td>\n",
       "      <td>D</td>\n",
       "    </tr>\n",
       "    <tr>\n",
       "      <th>1</th>\n",
       "      <td>1</td>\n",
       "      <td>ford</td>\n",
       "      <td>fusion</td>\n",
       "      <td>5550</td>\n",
       "      <td>2008</td>\n",
       "      <td>with mileage</td>\n",
       "      <td>172000.0</td>\n",
       "      <td>diesel</td>\n",
       "      <td>1400.0</td>\n",
       "      <td>silver</td>\n",
       "      <td>mechanics</td>\n",
       "      <td>front-wheel drive</td>\n",
       "      <td>M</td>\n",
       "    </tr>\n",
       "    <tr>\n",
       "      <th>2</th>\n",
       "      <td>2</td>\n",
       "      <td>nissan</td>\n",
       "      <td>teana</td>\n",
       "      <td>8300</td>\n",
       "      <td>2008</td>\n",
       "      <td>with mileage</td>\n",
       "      <td>223000.0</td>\n",
       "      <td>petrol</td>\n",
       "      <td>2500.0</td>\n",
       "      <td>purple</td>\n",
       "      <td>auto</td>\n",
       "      <td>front-wheel drive</td>\n",
       "      <td>D</td>\n",
       "    </tr>\n",
       "    <tr>\n",
       "      <th>3</th>\n",
       "      <td>3</td>\n",
       "      <td>volkswagen</td>\n",
       "      <td>fox</td>\n",
       "      <td>3300</td>\n",
       "      <td>2005</td>\n",
       "      <td>with mileage</td>\n",
       "      <td>140000.0</td>\n",
       "      <td>petrol</td>\n",
       "      <td>1200.0</td>\n",
       "      <td>blue</td>\n",
       "      <td>mechanics</td>\n",
       "      <td>front-wheel drive</td>\n",
       "      <td>A</td>\n",
       "    </tr>\n",
       "    <tr>\n",
       "      <th>4</th>\n",
       "      <td>4</td>\n",
       "      <td>nissan</td>\n",
       "      <td>primera</td>\n",
       "      <td>2450</td>\n",
       "      <td>2002</td>\n",
       "      <td>with damage</td>\n",
       "      <td>413000.0</td>\n",
       "      <td>diesel</td>\n",
       "      <td>2200.0</td>\n",
       "      <td>burgundy</td>\n",
       "      <td>mechanics</td>\n",
       "      <td>front-wheel drive</td>\n",
       "      <td>D</td>\n",
       "    </tr>\n",
       "  </tbody>\n",
       "</table>\n",
       "</div>"
      ],
      "text/plain": [
       "   Unnamed: 0        make    model  priceUSD  year     condition  \\\n",
       "0           0       honda   accord       565  1993  with mileage   \n",
       "1           1        ford   fusion      5550  2008  with mileage   \n",
       "2           2      nissan    teana      8300  2008  with mileage   \n",
       "3           3  volkswagen      fox      3300  2005  with mileage   \n",
       "4           4      nissan  primera      2450  2002   with damage   \n",
       "\n",
       "   mileage(kilometers) fuel_type  volume(cm3)     color transmission  \\\n",
       "0             960015.0    petrol       2000.0     black    mechanics   \n",
       "1             172000.0    diesel       1400.0    silver    mechanics   \n",
       "2             223000.0    petrol       2500.0    purple         auto   \n",
       "3             140000.0    petrol       1200.0      blue    mechanics   \n",
       "4             413000.0    diesel       2200.0  burgundy    mechanics   \n",
       "\n",
       "          drive_unit segment  \n",
       "0  front-wheel drive       D  \n",
       "1  front-wheel drive       M  \n",
       "2  front-wheel drive       D  \n",
       "3  front-wheel drive       A  \n",
       "4  front-wheel drive       D  "
      ]
     },
     "execution_count": 3,
     "metadata": {},
     "output_type": "execute_result"
    }
   ],
   "source": [
    "data.head()"
   ]
  },
  {
   "cell_type": "code",
   "execution_count": 4,
   "metadata": {},
   "outputs": [
    {
     "data": {
      "text/html": [
       "<div>\n",
       "<style scoped>\n",
       "    .dataframe tbody tr th:only-of-type {\n",
       "        vertical-align: middle;\n",
       "    }\n",
       "\n",
       "    .dataframe tbody tr th {\n",
       "        vertical-align: top;\n",
       "    }\n",
       "\n",
       "    .dataframe thead th {\n",
       "        text-align: right;\n",
       "    }\n",
       "</style>\n",
       "<table border=\"1\" class=\"dataframe\">\n",
       "  <thead>\n",
       "    <tr style=\"text-align: right;\">\n",
       "      <th></th>\n",
       "      <th>Unnamed: 0</th>\n",
       "      <th>priceUSD</th>\n",
       "      <th>year</th>\n",
       "      <th>mileage(kilometers)</th>\n",
       "      <th>volume(cm3)</th>\n",
       "    </tr>\n",
       "  </thead>\n",
       "  <tbody>\n",
       "    <tr>\n",
       "      <th>count</th>\n",
       "      <td>40000.00000</td>\n",
       "      <td>40000.000000</td>\n",
       "      <td>40000.000000</td>\n",
       "      <td>4.000000e+04</td>\n",
       "      <td>39970.000000</td>\n",
       "    </tr>\n",
       "    <tr>\n",
       "      <th>mean</th>\n",
       "      <td>19999.50000</td>\n",
       "      <td>7430.383775</td>\n",
       "      <td>2003.485625</td>\n",
       "      <td>2.434332e+05</td>\n",
       "      <td>2103.201676</td>\n",
       "    </tr>\n",
       "    <tr>\n",
       "      <th>std</th>\n",
       "      <td>11547.14972</td>\n",
       "      <td>8338.242134</td>\n",
       "      <td>8.114896</td>\n",
       "      <td>3.167033e+05</td>\n",
       "      <td>938.724653</td>\n",
       "    </tr>\n",
       "    <tr>\n",
       "      <th>min</th>\n",
       "      <td>0.00000</td>\n",
       "      <td>95.000000</td>\n",
       "      <td>1938.000000</td>\n",
       "      <td>0.000000e+00</td>\n",
       "      <td>500.000000</td>\n",
       "    </tr>\n",
       "    <tr>\n",
       "      <th>25%</th>\n",
       "      <td>9999.75000</td>\n",
       "      <td>2350.000000</td>\n",
       "      <td>1998.000000</td>\n",
       "      <td>1.370000e+05</td>\n",
       "      <td>1600.000000</td>\n",
       "    </tr>\n",
       "    <tr>\n",
       "      <th>50%</th>\n",
       "      <td>19999.50000</td>\n",
       "      <td>5350.000000</td>\n",
       "      <td>2004.000000</td>\n",
       "      <td>2.280000e+05</td>\n",
       "      <td>1995.000000</td>\n",
       "    </tr>\n",
       "    <tr>\n",
       "      <th>75%</th>\n",
       "      <td>29999.25000</td>\n",
       "      <td>9850.000000</td>\n",
       "      <td>2010.000000</td>\n",
       "      <td>3.087610e+05</td>\n",
       "      <td>2300.000000</td>\n",
       "    </tr>\n",
       "    <tr>\n",
       "      <th>max</th>\n",
       "      <td>39999.00000</td>\n",
       "      <td>195000.000000</td>\n",
       "      <td>2019.000000</td>\n",
       "      <td>9.999999e+06</td>\n",
       "      <td>20000.000000</td>\n",
       "    </tr>\n",
       "  </tbody>\n",
       "</table>\n",
       "</div>"
      ],
      "text/plain": [
       "        Unnamed: 0       priceUSD          year  mileage(kilometers)  \\\n",
       "count  40000.00000   40000.000000  40000.000000         4.000000e+04   \n",
       "mean   19999.50000    7430.383775   2003.485625         2.434332e+05   \n",
       "std    11547.14972    8338.242134      8.114896         3.167033e+05   \n",
       "min        0.00000      95.000000   1938.000000         0.000000e+00   \n",
       "25%     9999.75000    2350.000000   1998.000000         1.370000e+05   \n",
       "50%    19999.50000    5350.000000   2004.000000         2.280000e+05   \n",
       "75%    29999.25000    9850.000000   2010.000000         3.087610e+05   \n",
       "max    39999.00000  195000.000000   2019.000000         9.999999e+06   \n",
       "\n",
       "        volume(cm3)  \n",
       "count  39970.000000  \n",
       "mean    2103.201676  \n",
       "std      938.724653  \n",
       "min      500.000000  \n",
       "25%     1600.000000  \n",
       "50%     1995.000000  \n",
       "75%     2300.000000  \n",
       "max    20000.000000  "
      ]
     },
     "execution_count": 4,
     "metadata": {},
     "output_type": "execute_result"
    }
   ],
   "source": [
    "#check statistical info\n",
    "data.describe()"
   ]
  },
  {
   "cell_type": "markdown",
   "metadata": {
    "id": "R_bP3en6bkE_"
   },
   "source": [
    "# clean data "
   ]
  },
  {
   "cell_type": "code",
   "execution_count": 4,
   "metadata": {
    "id": "NbEtd0ZobyPd"
   },
   "outputs": [
    {
     "data": {
      "text/plain": [
       "array([   0,    0,    0,    0,    0,    0,    0,    0,   30,    0,    0,\n",
       "       1345, 3755], dtype=int64)"
      ]
     },
     "execution_count": 4,
     "metadata": {},
     "output_type": "execute_result"
    }
   ],
   "source": [
    "# check null values in data det\n",
    "data.isna().sum().values"
   ]
  },
  {
   "cell_type": "code",
   "execution_count": 5,
   "metadata": {
    "id": "AzZlWPaIisp_"
   },
   "outputs": [],
   "source": [
    "# very few values are null. rather than replace these values with 0 or mean method we can drop it \n",
    "data.dropna(axis=0,inplace=True)"
   ]
  },
  {
   "cell_type": "code",
   "execution_count": 6,
   "metadata": {
    "id": "Drpjfa8wiyqg"
   },
   "outputs": [],
   "source": [
    "# drop unneccessary column from data frame and make copy it.\n",
    "data1=data.drop(labels=['Unnamed: 0'],axis=1)"
   ]
  },
  {
   "cell_type": "code",
   "execution_count": 7,
   "metadata": {
    "id": "bRUaHx6-i6Rj"
   },
   "outputs": [
    {
     "data": {
      "text/plain": [
       "45"
      ]
     },
     "execution_count": 7,
     "metadata": {},
     "output_type": "execute_result"
    }
   ],
   "source": [
    "#checek duplicat values\n",
    "data1.duplicated().sum()\n"
   ]
  },
  {
   "cell_type": "code",
   "execution_count": 8,
   "metadata": {
    "id": "An2_68Vji_E2"
   },
   "outputs": [
    {
     "data": {
      "text/html": [
       "<div>\n",
       "<style scoped>\n",
       "    .dataframe tbody tr th:only-of-type {\n",
       "        vertical-align: middle;\n",
       "    }\n",
       "\n",
       "    .dataframe tbody tr th {\n",
       "        vertical-align: top;\n",
       "    }\n",
       "\n",
       "    .dataframe thead th {\n",
       "        text-align: right;\n",
       "    }\n",
       "</style>\n",
       "<table border=\"1\" class=\"dataframe\">\n",
       "  <thead>\n",
       "    <tr style=\"text-align: right;\">\n",
       "      <th></th>\n",
       "      <th>make</th>\n",
       "      <th>model</th>\n",
       "      <th>priceUSD</th>\n",
       "      <th>year</th>\n",
       "      <th>condition</th>\n",
       "      <th>mileage(kilometers)</th>\n",
       "      <th>fuel_type</th>\n",
       "      <th>volume(cm3)</th>\n",
       "      <th>color</th>\n",
       "      <th>transmission</th>\n",
       "      <th>drive_unit</th>\n",
       "      <th>segment</th>\n",
       "    </tr>\n",
       "  </thead>\n",
       "  <tbody>\n",
       "    <tr>\n",
       "      <th>0</th>\n",
       "      <td>honda</td>\n",
       "      <td>accord</td>\n",
       "      <td>565</td>\n",
       "      <td>1993</td>\n",
       "      <td>with mileage</td>\n",
       "      <td>960015.0</td>\n",
       "      <td>petrol</td>\n",
       "      <td>2000.0</td>\n",
       "      <td>black</td>\n",
       "      <td>mechanics</td>\n",
       "      <td>front-wheel drive</td>\n",
       "      <td>D</td>\n",
       "    </tr>\n",
       "    <tr>\n",
       "      <th>1</th>\n",
       "      <td>ford</td>\n",
       "      <td>fusion</td>\n",
       "      <td>5550</td>\n",
       "      <td>2008</td>\n",
       "      <td>with mileage</td>\n",
       "      <td>172000.0</td>\n",
       "      <td>diesel</td>\n",
       "      <td>1400.0</td>\n",
       "      <td>silver</td>\n",
       "      <td>mechanics</td>\n",
       "      <td>front-wheel drive</td>\n",
       "      <td>M</td>\n",
       "    </tr>\n",
       "    <tr>\n",
       "      <th>2</th>\n",
       "      <td>nissan</td>\n",
       "      <td>teana</td>\n",
       "      <td>8300</td>\n",
       "      <td>2008</td>\n",
       "      <td>with mileage</td>\n",
       "      <td>223000.0</td>\n",
       "      <td>petrol</td>\n",
       "      <td>2500.0</td>\n",
       "      <td>purple</td>\n",
       "      <td>auto</td>\n",
       "      <td>front-wheel drive</td>\n",
       "      <td>D</td>\n",
       "    </tr>\n",
       "    <tr>\n",
       "      <th>3</th>\n",
       "      <td>volkswagen</td>\n",
       "      <td>fox</td>\n",
       "      <td>3300</td>\n",
       "      <td>2005</td>\n",
       "      <td>with mileage</td>\n",
       "      <td>140000.0</td>\n",
       "      <td>petrol</td>\n",
       "      <td>1200.0</td>\n",
       "      <td>blue</td>\n",
       "      <td>mechanics</td>\n",
       "      <td>front-wheel drive</td>\n",
       "      <td>A</td>\n",
       "    </tr>\n",
       "    <tr>\n",
       "      <th>4</th>\n",
       "      <td>nissan</td>\n",
       "      <td>primera</td>\n",
       "      <td>2450</td>\n",
       "      <td>2002</td>\n",
       "      <td>with damage</td>\n",
       "      <td>413000.0</td>\n",
       "      <td>diesel</td>\n",
       "      <td>2200.0</td>\n",
       "      <td>burgundy</td>\n",
       "      <td>mechanics</td>\n",
       "      <td>front-wheel drive</td>\n",
       "      <td>D</td>\n",
       "    </tr>\n",
       "    <tr>\n",
       "      <th>...</th>\n",
       "      <td>...</td>\n",
       "      <td>...</td>\n",
       "      <td>...</td>\n",
       "      <td>...</td>\n",
       "      <td>...</td>\n",
       "      <td>...</td>\n",
       "      <td>...</td>\n",
       "      <td>...</td>\n",
       "      <td>...</td>\n",
       "      <td>...</td>\n",
       "      <td>...</td>\n",
       "      <td>...</td>\n",
       "    </tr>\n",
       "    <tr>\n",
       "      <th>39994</th>\n",
       "      <td>audi</td>\n",
       "      <td>a4</td>\n",
       "      <td>9700</td>\n",
       "      <td>2008</td>\n",
       "      <td>with mileage</td>\n",
       "      <td>278000.0</td>\n",
       "      <td>diesel</td>\n",
       "      <td>2000.0</td>\n",
       "      <td>blue</td>\n",
       "      <td>mechanics</td>\n",
       "      <td>front-wheel drive</td>\n",
       "      <td>D</td>\n",
       "    </tr>\n",
       "    <tr>\n",
       "      <th>39995</th>\n",
       "      <td>jeep</td>\n",
       "      <td>grand-cherokee</td>\n",
       "      <td>12500</td>\n",
       "      <td>2008</td>\n",
       "      <td>with mileage</td>\n",
       "      <td>214000.0</td>\n",
       "      <td>petrol</td>\n",
       "      <td>3700.0</td>\n",
       "      <td>silver</td>\n",
       "      <td>auto</td>\n",
       "      <td>all-wheel drive</td>\n",
       "      <td>J</td>\n",
       "    </tr>\n",
       "    <tr>\n",
       "      <th>39996</th>\n",
       "      <td>peugeot</td>\n",
       "      <td>607</td>\n",
       "      <td>4754</td>\n",
       "      <td>2001</td>\n",
       "      <td>with mileage</td>\n",
       "      <td>295000.0</td>\n",
       "      <td>petrol</td>\n",
       "      <td>2200.0</td>\n",
       "      <td>blue</td>\n",
       "      <td>mechanics</td>\n",
       "      <td>front-wheel drive</td>\n",
       "      <td>E</td>\n",
       "    </tr>\n",
       "    <tr>\n",
       "      <th>39997</th>\n",
       "      <td>mercedes-benz</td>\n",
       "      <td>c-klass</td>\n",
       "      <td>4000</td>\n",
       "      <td>1999</td>\n",
       "      <td>with mileage</td>\n",
       "      <td>0.0</td>\n",
       "      <td>diesel</td>\n",
       "      <td>2200.0</td>\n",
       "      <td>other</td>\n",
       "      <td>mechanics</td>\n",
       "      <td>rear drive</td>\n",
       "      <td>D</td>\n",
       "    </tr>\n",
       "    <tr>\n",
       "      <th>39999</th>\n",
       "      <td>mercedes-benz</td>\n",
       "      <td>190-w201</td>\n",
       "      <td>744</td>\n",
       "      <td>1986</td>\n",
       "      <td>with mileage</td>\n",
       "      <td>272344.0</td>\n",
       "      <td>diesel</td>\n",
       "      <td>1997.0</td>\n",
       "      <td>silver</td>\n",
       "      <td>mechanics</td>\n",
       "      <td>rear drive</td>\n",
       "      <td>D</td>\n",
       "    </tr>\n",
       "  </tbody>\n",
       "</table>\n",
       "<p>34971 rows × 12 columns</p>\n",
       "</div>"
      ],
      "text/plain": [
       "                make           model  priceUSD  year     condition  \\\n",
       "0              honda          accord       565  1993  with mileage   \n",
       "1               ford          fusion      5550  2008  with mileage   \n",
       "2             nissan           teana      8300  2008  with mileage   \n",
       "3         volkswagen             fox      3300  2005  with mileage   \n",
       "4             nissan         primera      2450  2002   with damage   \n",
       "...              ...             ...       ...   ...           ...   \n",
       "39994           audi              a4      9700  2008  with mileage   \n",
       "39995           jeep  grand-cherokee     12500  2008  with mileage   \n",
       "39996        peugeot             607      4754  2001  with mileage   \n",
       "39997  mercedes-benz         c-klass      4000  1999  with mileage   \n",
       "39999  mercedes-benz        190-w201       744  1986  with mileage   \n",
       "\n",
       "       mileage(kilometers) fuel_type  volume(cm3)     color transmission  \\\n",
       "0                 960015.0    petrol       2000.0     black    mechanics   \n",
       "1                 172000.0    diesel       1400.0    silver    mechanics   \n",
       "2                 223000.0    petrol       2500.0    purple         auto   \n",
       "3                 140000.0    petrol       1200.0      blue    mechanics   \n",
       "4                 413000.0    diesel       2200.0  burgundy    mechanics   \n",
       "...                    ...       ...          ...       ...          ...   \n",
       "39994             278000.0    diesel       2000.0      blue    mechanics   \n",
       "39995             214000.0    petrol       3700.0    silver         auto   \n",
       "39996             295000.0    petrol       2200.0      blue    mechanics   \n",
       "39997                  0.0    diesel       2200.0     other    mechanics   \n",
       "39999             272344.0    diesel       1997.0    silver    mechanics   \n",
       "\n",
       "              drive_unit segment  \n",
       "0      front-wheel drive       D  \n",
       "1      front-wheel drive       M  \n",
       "2      front-wheel drive       D  \n",
       "3      front-wheel drive       A  \n",
       "4      front-wheel drive       D  \n",
       "...                  ...     ...  \n",
       "39994  front-wheel drive       D  \n",
       "39995    all-wheel drive       J  \n",
       "39996  front-wheel drive       E  \n",
       "39997         rear drive       D  \n",
       "39999         rear drive       D  \n",
       "\n",
       "[34971 rows x 12 columns]"
      ]
     },
     "execution_count": 8,
     "metadata": {},
     "output_type": "execute_result"
    }
   ],
   "source": [
    "# drop these \n",
    "data1.drop_duplicates(inplace=True)\n",
    "data1"
   ]
  },
  {
   "cell_type": "code",
   "execution_count": 9,
   "metadata": {
    "id": "7cGQ3-1On8Zx"
   },
   "outputs": [],
   "source": [
    "#plot graph between dependent and independent variables "
   ]
  },
  {
   "cell_type": "code",
   "execution_count": 10,
   "metadata": {
    "id": "oQhmB9wSjHsd"
   },
   "outputs": [
    {
     "data": {
      "text/plain": [
       "<seaborn.axisgrid.FacetGrid at 0x1f7b5b99808>"
      ]
     },
     "execution_count": 10,
     "metadata": {},
     "output_type": "execute_result"
    },
    {
     "data": {
      "text/plain": [
       "<Figure size 842.4x626.4 with 0 Axes>"
      ]
     },
     "metadata": {},
     "output_type": "display_data"
    },
    {
     "data": {
      "image/png": "[encoded data removed]",
      "text/plain": [
       "<Figure size 360x360 with 1 Axes>"
      ]
     },
     "metadata": {
      "needs_background": "light"
     },
     "output_type": "display_data"
    }
   ],
   "source": [
    "#Graph price vs mileage \n",
    "plt.figure(figsize=(11.7,8.7))\n",
    "sns.relplot(x='mileage(kilometers)',y='priceUSD',sizes=(15,200),data=data1)"
   ]
  },
  {
   "cell_type": "code",
   "execution_count": 12,
   "metadata": {
    "id": "RZPsOvt9e9tg"
   },
   "outputs": [
    {
     "data": {
      "text/plain": [
       "Text(0.5, 0, 'Make')"
      ]
     },
     "execution_count": 12,
     "metadata": {},
     "output_type": "execute_result"
    },
    {
     "data": {
      "image/png": "[encoded data removed]",
      "text/plain": [
       "<Figure size 720x360 with 1 Axes>"
      ]
     },
     "metadata": {
      "needs_background": "light"
     },
     "output_type": "display_data"
    }
   ],
   "source": [
    "# Plotting a Histogram\n",
    "data1.make.value_counts().nlargest(40).plot(kind='bar', figsize=(10,5))\n",
    "plt.title('Number of cars by make')\n",
    "plt.ylabel('Number of cars')\n",
    "plt.xlabel('Make')"
   ]
  },
  {
   "cell_type": "code",
   "execution_count": 13,
   "metadata": {},
   "outputs": [],
   "source": [
    "#highest number of cars are volkswegan"
   ]
  },
  {
   "cell_type": "code",
   "execution_count": 14,
   "metadata": {
    "id": "V9_Tt4mie9yX"
   },
   "outputs": [
    {
     "data": {
      "text/plain": [
       "<matplotlib.axes._subplots.AxesSubplot at 0x222661c4d08>"
      ]
     },
     "execution_count": 14,
     "metadata": {},
     "output_type": "execute_result"
    },
    {
     "data": {
      "image/png": "[encoded data removed]",
      "text/plain": [
       "<Figure size 432x288 with 1 Axes>"
      ]
     },
     "metadata": {
      "needs_background": "light"
     },
     "output_type": "display_data"
    }
   ],
   "source": [
    "#2 price vs condition\n",
    "sns.scatterplot(data1['condition'],data1['priceUSD'])"
   ]
  },
  {
   "cell_type": "code",
   "execution_count": 15,
   "metadata": {
    "id": "DEIQzjPXe9p9"
   },
   "outputs": [
    {
     "data": {
      "text/plain": [
       "<matplotlib.axes._subplots.AxesSubplot at 0x22266289e88>"
      ]
     },
     "execution_count": 15,
     "metadata": {},
     "output_type": "execute_result"
    },
    {
     "data": {
      "image/png": "[encoded data removed]",
      "text/plain": [
       "<Figure size 432x288 with 1 Axes>"
      ]
     },
     "metadata": {
      "needs_background": "light"
     },
     "output_type": "display_data"
    }
   ],
   "source": [
    "#year vs priceUSD\n",
    "sns.lineplot(data1['year'],data1['priceUSD'])"
   ]
  },
  {
   "cell_type": "code",
   "execution_count": 16,
   "metadata": {
    "id": "Crphfrxxe9n1"
   },
   "outputs": [
    {
     "data": {
      "text/plain": [
       "<matplotlib.axes._subplots.AxesSubplot at 0x22266260b48>"
      ]
     },
     "execution_count": 16,
     "metadata": {},
     "output_type": "execute_result"
    },
    {
     "data": {
      "image/png": "[encoded data removed]",
      "text/plain": [
       "<Figure size 432x288 with 1 Axes>"
      ]
     },
     "metadata": {
      "needs_background": "light"
     },
     "output_type": "display_data"
    }
   ],
   "source": [
    "sns.barplot(data1['fuel_type'],data1['year'])"
   ]
  },
  {
   "cell_type": "code",
   "execution_count": 17,
   "metadata": {},
   "outputs": [],
   "source": [
    "# plot data\n",
    "def groupby(x1,x2):\n",
    "    fig, ax = plt.subplots(figsize=(15,7))\n",
    "# use unstack()\n",
    "    data1.groupby([x1,x2]).count()['priceUSD'].unstack().plot(ax=ax)"
   ]
  },
  {
   "cell_type": "code",
   "execution_count": 18,
   "metadata": {},
   "outputs": [
    {
     "data": {
      "image/png": "[encoded data removed]",
      "text/plain": [
       "<Figure size 1080x504 with 1 Axes>"
      ]
     },
     "metadata": {
      "needs_background": "light"
     },
     "output_type": "display_data"
    }
   ],
   "source": [
    "groupby('year','transmission')"
   ]
  },
  {
   "cell_type": "code",
   "execution_count": 19,
   "metadata": {},
   "outputs": [],
   "source": [
    "#here we can see mechanic cars are rapidly grow in between 1990 to 2000 and after 2000 to 2010 its fall down but its more than auto.\n",
    "#where auto cars are grow (less than mechanics)in middle of 1990 to 2010.But 2010 to 2020 its decrease. After 2010 to 2020 auto cars are more than mechanics."
   ]
  },
  {
   "cell_type": "code",
   "execution_count": 20,
   "metadata": {},
   "outputs": [
    {
     "data": {
      "image/png": "[encoded data removed]",
      "text/plain": [
       "<Figure size 1080x504 with 1 Axes>"
      ]
     },
     "metadata": {
      "needs_background": "light"
     },
     "output_type": "display_data"
    }
   ],
   "source": [
    "groupby('mileage(kilometers)','fuel_type')"
   ]
  },
  {
   "cell_type": "code",
   "execution_count": 21,
   "metadata": {},
   "outputs": [
    {
     "data": {
      "image/png": "[encoded data removed]",
      "text/plain": [
       "<Figure size 1080x504 with 1 Axes>"
      ]
     },
     "metadata": {
      "needs_background": "light"
     },
     "output_type": "display_data"
    }
   ],
   "source": [
    "groupby('year','fuel_type')"
   ]
  },
  {
   "cell_type": "code",
   "execution_count": 22,
   "metadata": {},
   "outputs": [],
   "source": [
    "#convert categorical data into numeric "
   ]
  },
  {
   "cell_type": "code",
   "execution_count": 11,
   "metadata": {
    "id": "EGwq8RLEe9l5"
   },
   "outputs": [],
   "source": [
    "data1['fuel_type'].replace(to_replace=['petrol','diesel'],value=[0,1],inplace=True)"
   ]
  },
  {
   "cell_type": "code",
   "execution_count": 12,
   "metadata": {
    "id": "KdpnBhxc9FfN"
   },
   "outputs": [],
   "source": [
    "from sklearn.preprocessing import LabelEncoder\n",
    "\n",
    "lb_make = LabelEncoder()\n",
    "data1[\"make\"] = lb_make.fit_transform(data1[\"make\"])\n"
   ]
  },
  {
   "cell_type": "code",
   "execution_count": 13,
   "metadata": {
    "id": "nO-ANe1x6PTX"
   },
   "outputs": [
    {
     "data": {
      "text/plain": [
       "with mileage    34493\n",
       "with damage       264\n",
       "for parts         259\n",
       "Name: condition, dtype: int64"
      ]
     },
     "execution_count": 13,
     "metadata": {},
     "output_type": "execute_result"
    }
   ],
   "source": [
    "data['condition'].value_counts()"
   ]
  },
  {
   "cell_type": "code",
   "execution_count": 14,
   "metadata": {},
   "outputs": [],
   "source": [
    "#You can see here \"with mileage\" car has more than other. We can use if else situation where with mileage \n",
    "#has 1 and other car has 0 value\n",
    "data1[\"condition_code\"] = np.where(data1[\"condition\"].str.contains(\"with mileage\"),1,0)\n"
   ]
  },
  {
   "cell_type": "code",
   "execution_count": 15,
   "metadata": {
    "id": "qLZk9Uo2BRiJ"
   },
   "outputs": [
    {
     "data": {
      "text/plain": [
       "front-wheel drive             24680\n",
       "rear drive                     4355\n",
       "all-wheel drive                3817\n",
       "part-time four-wheel drive     2119\n",
       "Name: drive_unit, dtype: int64"
      ]
     },
     "execution_count": 15,
     "metadata": {},
     "output_type": "execute_result"
    }
   ],
   "source": [
    "data1['drive_unit'].value_counts()"
   ]
  },
  {
   "cell_type": "code",
   "execution_count": 16,
   "metadata": {
    "id": "mMi8mnreB8fu"
   },
   "outputs": [
    {
     "data": {
      "text/plain": [
       "mechanics    22518\n",
       "auto         12453\n",
       "Name: transmission, dtype: int64"
      ]
     },
     "execution_count": 16,
     "metadata": {},
     "output_type": "execute_result"
    }
   ],
   "source": [
    "data1['transmission'].value_counts()"
   ]
  },
  {
   "cell_type": "code",
   "execution_count": 17,
   "metadata": {
    "id": "Sn-4_-uoDiFM"
   },
   "outputs": [],
   "source": [
    "data1['transmission'].replace(to_replace=['mechanics','auto'],value=[0,1],inplace=True)"
   ]
  },
  {
   "cell_type": "code",
   "execution_count": 16,
   "metadata": {
    "id": "lEQwvHcSDuZt"
   },
   "outputs": [
    {
     "name": "stdout",
     "output_type": "stream",
     "text": [
      "<class 'pandas.core.frame.DataFrame'>\n",
      "Int64Index: 34971 entries, 0 to 39999\n",
      "Data columns (total 13 columns):\n",
      " #   Column               Non-Null Count  Dtype  \n",
      "---  ------               --------------  -----  \n",
      " 0   make                 34971 non-null  int32  \n",
      " 1   model                34971 non-null  object \n",
      " 2   priceUSD             34971 non-null  int64  \n",
      " 3   year                 34971 non-null  int64  \n",
      " 4   condition            34971 non-null  object \n",
      " 5   mileage(kilometers)  34971 non-null  float64\n",
      " 6   fuel_type            34971 non-null  int64  \n",
      " 7   volume(cm3)          34971 non-null  float64\n",
      " 8   color                34971 non-null  object \n",
      " 9   transmission         34971 non-null  int64  \n",
      " 10  drive_unit           34971 non-null  object \n",
      " 11  segment              34971 non-null  object \n",
      " 12  condition_code       34971 non-null  int32  \n",
      "dtypes: float64(2), int32(2), int64(4), object(5)\n",
      "memory usage: 3.5+ MB\n"
     ]
    }
   ],
   "source": [
    "data1.info()"
   ]
  },
  {
   "cell_type": "code",
   "execution_count": 18,
   "metadata": {},
   "outputs": [],
   "source": [
    "X=data1.iloc[:,[3,5,6,7,9,12]]\n",
    "Y=data1.iloc[:,[2]]"
   ]
  },
  {
   "cell_type": "code",
   "execution_count": 19,
   "metadata": {},
   "outputs": [],
   "source": [
    "from sklearn.feature_selection import chi2"
   ]
  },
  {
   "cell_type": "code",
   "execution_count": 20,
   "metadata": {},
   "outputs": [
    {
     "data": {
      "text/plain": [
       "(array([7.99065949e+02, 1.12993119e+09, 2.48746987e+03, 2.12191977e+06,\n",
       "        7.75719044e+03, 1.07561363e+02]),\n",
       " array([1.        , 0.        , 0.01044528, 0.        , 0.        ,\n",
       "        1.        ]))"
      ]
     },
     "execution_count": 20,
     "metadata": {},
     "output_type": "execute_result"
    }
   ],
   "source": [
    "chi2(X,Y)"
   ]
  },
  {
   "cell_type": "code",
   "execution_count": 21,
   "metadata": {},
   "outputs": [],
   "source": [
    "#now bases on study and servey we can do hit and trial, opt those variables which are important in car price prediction \"\"\n",
    "df=data1.iloc[:,[0,2,3,5,6,7,9,12]]"
   ]
  },
  {
   "cell_type": "code",
   "execution_count": 22,
   "metadata": {
    "id": "MS1bO4wQFQgL"
   },
   "outputs": [
    {
     "name": "stdout",
     "output_type": "stream",
     "text": [
      "<class 'pandas.core.frame.DataFrame'>\n",
      "Int64Index: 34971 entries, 0 to 39999\n",
      "Data columns (total 8 columns):\n",
      " #   Column               Non-Null Count  Dtype  \n",
      "---  ------               --------------  -----  \n",
      " 0   make                 34971 non-null  int32  \n",
      " 1   priceUSD             34971 non-null  int64  \n",
      " 2   year                 34971 non-null  int64  \n",
      " 3   mileage(kilometers)  34971 non-null  float64\n",
      " 4   fuel_type            34971 non-null  int64  \n",
      " 5   volume(cm3)          34971 non-null  float64\n",
      " 6   transmission         34971 non-null  int64  \n",
      " 7   condition_code       34971 non-null  int32  \n",
      "dtypes: float64(2), int32(2), int64(4)\n",
      "memory usage: 2.1 MB\n"
     ]
    }
   ],
   "source": [
    "df.info()"
   ]
  },
  {
   "cell_type": "code",
   "execution_count": 25,
   "metadata": {
    "id": "xFxQ0DCEGa90"
   },
   "outputs": [
    {
     "data": {
      "text/html": [
       "<div>\n",
       "<style scoped>\n",
       "    .dataframe tbody tr th:only-of-type {\n",
       "        vertical-align: middle;\n",
       "    }\n",
       "\n",
       "    .dataframe tbody tr th {\n",
       "        vertical-align: top;\n",
       "    }\n",
       "\n",
       "    .dataframe thead th {\n",
       "        text-align: right;\n",
       "    }\n",
       "</style>\n",
       "<table border=\"1\" class=\"dataframe\">\n",
       "  <thead>\n",
       "    <tr style=\"text-align: right;\">\n",
       "      <th></th>\n",
       "      <th>make</th>\n",
       "      <th>priceUSD</th>\n",
       "      <th>year</th>\n",
       "      <th>mileage(kilometers)</th>\n",
       "      <th>fuel_type</th>\n",
       "      <th>volume(cm3)</th>\n",
       "      <th>transmission</th>\n",
       "      <th>condition_code</th>\n",
       "    </tr>\n",
       "  </thead>\n",
       "  <tbody>\n",
       "    <tr>\n",
       "      <th>make</th>\n",
       "      <td>1.000000</td>\n",
       "      <td>-0.027106</td>\n",
       "      <td>0.050315</td>\n",
       "      <td>-0.021257</td>\n",
       "      <td>0.054427</td>\n",
       "      <td>-0.143781</td>\n",
       "      <td>-0.128493</td>\n",
       "      <td>0.009320</td>\n",
       "    </tr>\n",
       "    <tr>\n",
       "      <th>priceUSD</th>\n",
       "      <td>-0.027106</td>\n",
       "      <td>1.000000</td>\n",
       "      <td>0.642890</td>\n",
       "      <td>-0.178958</td>\n",
       "      <td>0.113289</td>\n",
       "      <td>0.268801</td>\n",
       "      <td>0.466562</td>\n",
       "      <td>0.089209</td>\n",
       "    </tr>\n",
       "    <tr>\n",
       "      <th>year</th>\n",
       "      <td>0.050315</td>\n",
       "      <td>0.642890</td>\n",
       "      <td>1.000000</td>\n",
       "      <td>-0.245505</td>\n",
       "      <td>0.065797</td>\n",
       "      <td>0.028458</td>\n",
       "      <td>0.404404</td>\n",
       "      <td>0.115575</td>\n",
       "    </tr>\n",
       "    <tr>\n",
       "      <th>mileage(kilometers)</th>\n",
       "      <td>-0.021257</td>\n",
       "      <td>-0.178958</td>\n",
       "      <td>-0.245505</td>\n",
       "      <td>1.000000</td>\n",
       "      <td>0.088416</td>\n",
       "      <td>0.019227</td>\n",
       "      <td>-0.105284</td>\n",
       "      <td>-0.030591</td>\n",
       "    </tr>\n",
       "    <tr>\n",
       "      <th>fuel_type</th>\n",
       "      <td>0.054427</td>\n",
       "      <td>0.113289</td>\n",
       "      <td>0.065797</td>\n",
       "      <td>0.088416</td>\n",
       "      <td>1.000000</td>\n",
       "      <td>0.062239</td>\n",
       "      <td>-0.086743</td>\n",
       "      <td>0.031204</td>\n",
       "    </tr>\n",
       "    <tr>\n",
       "      <th>volume(cm3)</th>\n",
       "      <td>-0.143781</td>\n",
       "      <td>0.268801</td>\n",
       "      <td>0.028458</td>\n",
       "      <td>0.019227</td>\n",
       "      <td>0.062239</td>\n",
       "      <td>1.000000</td>\n",
       "      <td>0.339744</td>\n",
       "      <td>0.023284</td>\n",
       "    </tr>\n",
       "    <tr>\n",
       "      <th>transmission</th>\n",
       "      <td>-0.128493</td>\n",
       "      <td>0.466562</td>\n",
       "      <td>0.404404</td>\n",
       "      <td>-0.105284</td>\n",
       "      <td>-0.086743</td>\n",
       "      <td>0.339744</td>\n",
       "      <td>1.000000</td>\n",
       "      <td>0.052762</td>\n",
       "    </tr>\n",
       "    <tr>\n",
       "      <th>condition_code</th>\n",
       "      <td>0.009320</td>\n",
       "      <td>0.089209</td>\n",
       "      <td>0.115575</td>\n",
       "      <td>-0.030591</td>\n",
       "      <td>0.031204</td>\n",
       "      <td>0.023284</td>\n",
       "      <td>0.052762</td>\n",
       "      <td>1.000000</td>\n",
       "    </tr>\n",
       "  </tbody>\n",
       "</table>\n",
       "</div>"
      ],
      "text/plain": [
       "                         make  priceUSD      year  mileage(kilometers)  \\\n",
       "make                 1.000000 -0.027106  0.050315            -0.021257   \n",
       "priceUSD            -0.027106  1.000000  0.642890            -0.178958   \n",
       "year                 0.050315  0.642890  1.000000            -0.245505   \n",
       "mileage(kilometers) -0.021257 -0.178958 -0.245505             1.000000   \n",
       "fuel_type            0.054427  0.113289  0.065797             0.088416   \n",
       "volume(cm3)         -0.143781  0.268801  0.028458             0.019227   \n",
       "transmission        -0.128493  0.466562  0.404404            -0.105284   \n",
       "condition_code       0.009320  0.089209  0.115575            -0.030591   \n",
       "\n",
       "                     fuel_type  volume(cm3)  transmission  condition_code  \n",
       "make                  0.054427    -0.143781     -0.128493        0.009320  \n",
       "priceUSD              0.113289     0.268801      0.466562        0.089209  \n",
       "year                  0.065797     0.028458      0.404404        0.115575  \n",
       "mileage(kilometers)   0.088416     0.019227     -0.105284       -0.030591  \n",
       "fuel_type             1.000000     0.062239     -0.086743        0.031204  \n",
       "volume(cm3)           0.062239     1.000000      0.339744        0.023284  \n",
       "transmission         -0.086743     0.339744      1.000000        0.052762  \n",
       "condition_code        0.031204     0.023284      0.052762        1.000000  "
      ]
     },
     "execution_count": 25,
     "metadata": {},
     "output_type": "execute_result"
    }
   ],
   "source": [
    "df.corr()"
   ]
  },
  {
   "cell_type": "code",
   "execution_count": 27,
   "metadata": {
    "id": "pcJXMK0UGz9h"
   },
   "outputs": [],
   "source": [
    "from sklearn.model_selection import train_test_split"
   ]
  },
  {
   "cell_type": "code",
   "execution_count": 57,
   "metadata": {
    "id": "GU82kQlPG0BO"
   },
   "outputs": [
    {
     "data": {
      "text/html": [
       "<div>\n",
       "<style scoped>\n",
       "    .dataframe tbody tr th:only-of-type {\n",
       "        vertical-align: middle;\n",
       "    }\n",
       "\n",
       "    .dataframe tbody tr th {\n",
       "        vertical-align: top;\n",
       "    }\n",
       "\n",
       "    .dataframe thead th {\n",
       "        text-align: right;\n",
       "    }\n",
       "</style>\n",
       "<table border=\"1\" class=\"dataframe\">\n",
       "  <thead>\n",
       "    <tr style=\"text-align: right;\">\n",
       "      <th></th>\n",
       "      <th>year</th>\n",
       "      <th>fuel_type</th>\n",
       "      <th>volume(cm3)</th>\n",
       "      <th>transmission</th>\n",
       "      <th>condition_code</th>\n",
       "    </tr>\n",
       "  </thead>\n",
       "  <tbody>\n",
       "    <tr>\n",
       "      <th>0</th>\n",
       "      <td>1993</td>\n",
       "      <td>0</td>\n",
       "      <td>2000.0</td>\n",
       "      <td>0</td>\n",
       "      <td>1</td>\n",
       "    </tr>\n",
       "    <tr>\n",
       "      <th>1</th>\n",
       "      <td>2008</td>\n",
       "      <td>1</td>\n",
       "      <td>1400.0</td>\n",
       "      <td>0</td>\n",
       "      <td>1</td>\n",
       "    </tr>\n",
       "    <tr>\n",
       "      <th>2</th>\n",
       "      <td>2008</td>\n",
       "      <td>0</td>\n",
       "      <td>2500.0</td>\n",
       "      <td>1</td>\n",
       "      <td>1</td>\n",
       "    </tr>\n",
       "    <tr>\n",
       "      <th>3</th>\n",
       "      <td>2005</td>\n",
       "      <td>0</td>\n",
       "      <td>1200.0</td>\n",
       "      <td>0</td>\n",
       "      <td>1</td>\n",
       "    </tr>\n",
       "    <tr>\n",
       "      <th>4</th>\n",
       "      <td>2002</td>\n",
       "      <td>1</td>\n",
       "      <td>2200.0</td>\n",
       "      <td>0</td>\n",
       "      <td>0</td>\n",
       "    </tr>\n",
       "    <tr>\n",
       "      <th>...</th>\n",
       "      <td>...</td>\n",
       "      <td>...</td>\n",
       "      <td>...</td>\n",
       "      <td>...</td>\n",
       "      <td>...</td>\n",
       "    </tr>\n",
       "    <tr>\n",
       "      <th>39994</th>\n",
       "      <td>2008</td>\n",
       "      <td>1</td>\n",
       "      <td>2000.0</td>\n",
       "      <td>0</td>\n",
       "      <td>1</td>\n",
       "    </tr>\n",
       "    <tr>\n",
       "      <th>39995</th>\n",
       "      <td>2008</td>\n",
       "      <td>0</td>\n",
       "      <td>3700.0</td>\n",
       "      <td>1</td>\n",
       "      <td>1</td>\n",
       "    </tr>\n",
       "    <tr>\n",
       "      <th>39996</th>\n",
       "      <td>2001</td>\n",
       "      <td>0</td>\n",
       "      <td>2200.0</td>\n",
       "      <td>0</td>\n",
       "      <td>1</td>\n",
       "    </tr>\n",
       "    <tr>\n",
       "      <th>39997</th>\n",
       "      <td>1999</td>\n",
       "      <td>1</td>\n",
       "      <td>2200.0</td>\n",
       "      <td>0</td>\n",
       "      <td>1</td>\n",
       "    </tr>\n",
       "    <tr>\n",
       "      <th>39999</th>\n",
       "      <td>1986</td>\n",
       "      <td>1</td>\n",
       "      <td>1997.0</td>\n",
       "      <td>0</td>\n",
       "      <td>1</td>\n",
       "    </tr>\n",
       "  </tbody>\n",
       "</table>\n",
       "<p>34971 rows × 5 columns</p>\n",
       "</div>"
      ],
      "text/plain": [
       "       year  fuel_type  volume(cm3)  transmission  condition_code\n",
       "0      1993          0       2000.0             0               1\n",
       "1      2008          1       1400.0             0               1\n",
       "2      2008          0       2500.0             1               1\n",
       "3      2005          0       1200.0             0               1\n",
       "4      2002          1       2200.0             0               0\n",
       "...     ...        ...          ...           ...             ...\n",
       "39994  2008          1       2000.0             0               1\n",
       "39995  2008          0       3700.0             1               1\n",
       "39996  2001          0       2200.0             0               1\n",
       "39997  1999          1       2200.0             0               1\n",
       "39999  1986          1       1997.0             0               1\n",
       "\n",
       "[34971 rows x 5 columns]"
      ]
     },
     "execution_count": 57,
     "metadata": {},
     "output_type": "execute_result"
    }
   ],
   "source": [
    "# split data set into X and Y\n",
    "X1=df.iloc[:,[2,4,5,6,7]]\n",
    "#A=df.iloc[:,[2,3,4,6,7]]\n",
    "Y1=df.iloc[:,1]\n",
    "X1\n",
    "#A"
   ]
  },
  {
   "cell_type": "code",
   "execution_count": 43,
   "metadata": {},
   "outputs": [
    {
     "data": {
      "text/plain": [
       "(array([7.99065949e+02, 2.48746987e+03, 2.12191977e+06, 7.75719044e+03,\n",
       "        1.07561363e+02]),\n",
       " array([1.        , 0.01044528, 0.        , 0.        , 1.        ]))"
      ]
     },
     "execution_count": 43,
     "metadata": {},
     "output_type": "execute_result"
    }
   ],
   "source": [
    "chi2(X1,Y1)"
   ]
  },
  {
   "cell_type": "code",
   "execution_count": 58,
   "metadata": {
    "id": "TPHWRFSeHseJ"
   },
   "outputs": [],
   "source": [
    "x_train,x_test,y_train,y_test=train_test_split(X1,Y1)"
   ]
  },
  {
   "cell_type": "code",
   "execution_count": 47,
   "metadata": {},
   "outputs": [],
   "source": [
    "#x_train,x_test,y_train,y_test=train_test_split(A,Y1)"
   ]
  },
  {
   "cell_type": "code",
   "execution_count": 59,
   "metadata": {
    "id": "ELWB_0yyHzoL"
   },
   "outputs": [
    {
     "name": "stdout",
     "output_type": "stream",
     "text": [
      "(26228, 5) (26228,) (8743, 5) (8743,)\n"
     ]
    }
   ],
   "source": [
    "print(x_train.shape,y_train.shape,x_test.shape,y_test.shape)"
   ]
  },
  {
   "cell_type": "code",
   "execution_count": 49,
   "metadata": {
    "id": "7unB3vTlGbEB"
   },
   "outputs": [],
   "source": [
    "from sklearn.linear_model import Lasso,ridge_regression,ridge,LogisticRegression"
   ]
  },
  {
   "cell_type": "code",
   "execution_count": 50,
   "metadata": {},
   "outputs": [],
   "source": [
    "#create function \n",
    "def models(model):\n",
    "    model.fit(x_train,y_train)\n",
    "    score=model.score(x_test,y_test)\n",
    "    return score"
   ]
  },
  {
   "cell_type": "code",
   "execution_count": 60,
   "metadata": {
    "id": "fZ0dc-6fGt7i"
   },
   "outputs": [
    {
     "data": {
      "text/plain": [
       "0.5059755198493133"
      ]
     },
     "execution_count": 60,
     "metadata": {},
     "output_type": "execute_result"
    }
   ],
   "source": [
    "lasso=Lasso()\n",
    "models(lasso)"
   ]
  },
  {
   "cell_type": "code",
   "execution_count": 52,
   "metadata": {
    "id": "TDEZSrCbJrpT"
   },
   "outputs": [],
   "source": [
    "#lr=LogisticRegression()\n",
    "#models(lr)"
   ]
  },
  {
   "cell_type": "code",
   "execution_count": 53,
   "metadata": {
    "id": "fLT3-oOMLY5i"
   },
   "outputs": [],
   "source": [
    "from sklearn.ensemble import ExtraTreesRegressor"
   ]
  },
  {
   "cell_type": "code",
   "execution_count": 54,
   "metadata": {
    "id": "xfhLkzhuMtKo"
   },
   "outputs": [],
   "source": [
    "model=ExtraTreesRegressor()"
   ]
  },
  {
   "cell_type": "code",
   "execution_count": 61,
   "metadata": {},
   "outputs": [
    {
     "data": {
      "text/plain": [
       "0.8702879213019055"
      ]
     },
     "execution_count": 61,
     "metadata": {},
     "output_type": "execute_result"
    }
   ],
   "source": [
    "models(model)"
   ]
  },
  {
   "cell_type": "code",
   "execution_count": 51,
   "metadata": {},
   "outputs": [],
   "source": [
    "prediction=model.predict(x_test)"
   ]
  },
  {
   "cell_type": "code",
   "execution_count": 52,
   "metadata": {},
   "outputs": [
    {
     "name": "stdout",
     "output_type": "stream",
     "text": [
      "MAE: 1572.4052760825095\n",
      "MSE: 9037081.415530952\n",
      "RMSE: 3006.1738831163693\n"
     ]
    }
   ],
   "source": [
    "from sklearn import metrics\n",
    "print('MAE:', metrics.mean_absolute_error(y_test, prediction))\n",
    "print('MSE:', metrics.mean_squared_error(y_test, prediction))\n",
    "print('RMSE:', np.sqrt(metrics.mean_squared_error(y_test, prediction)))"
   ]
  },
  {
   "cell_type": "code",
   "execution_count": 53,
   "metadata": {},
   "outputs": [
    {
     "data": {
      "text/plain": [
       "Text(0, 0.5, 'Predictions')"
      ]
     },
     "execution_count": 53,
     "metadata": {},
     "output_type": "execute_result"
    },
    {
     "data": {
      "image/png": "[encoded data removed]",
      "text/plain": [
       "<Figure size 432x288 with 1 Axes>"
      ]
     },
     "metadata": {
      "needs_background": "light"
     },
     "output_type": "display_data"
    }
   ],
   "source": [
    "## The line / model\n",
    "plt.scatter(y_test, prediction)\n",
    "plt.xlabel(\"True Values\")\n",
    "plt.ylabel(\"Predictions\")"
   ]
  },
  {
   "cell_type": "code",
   "execution_count": 59,
   "metadata": {},
   "outputs": [],
   "source": [
    "from sklearn.model_selection import KFold,cross_val_score,cross_val_predict # import KFold\n"
   ]
  },
  {
   "cell_type": "code",
   "execution_count": 56,
   "metadata": {},
   "outputs": [
    {
     "name": "stdout",
     "output_type": "stream",
     "text": [
      "KFold(n_splits=10, random_state=None, shuffle=False)\n"
     ]
    },
    {
     "data": {
      "text/plain": [
       "KFold(n_splits=2, random_state=None, shuffle=False)"
      ]
     },
     "execution_count": 56,
     "metadata": {},
     "output_type": "execute_result"
    }
   ],
   "source": [
    "kf = KFold(n_splits=10) # Define the split - into 2 folds \n",
    "kf.get_n_splits(X1) # returns the number of splitting iterations in the cross-validator\n",
    "print(kf) \n",
    "KFold(n_splits=2, random_state=None, shuffle=False)"
   ]
  },
  {
   "cell_type": "code",
   "execution_count": 60,
   "metadata": {},
   "outputs": [
    {
     "name": "stdout",
     "output_type": "stream",
     "text": [
      "Cross-validated scores: [0.87377103 0.86864422 0.82589823 0.86037218 0.82542651 0.80574807\n",
      " 0.85925403 0.83019415 0.87921553 0.79282601]\n"
     ]
    }
   ],
   "source": [
    "scores = cross_val_score(model, X1, Y1, cv=10)\n",
    "print (\"Cross-validated scores:\", scores)"
   ]
  },
  {
   "cell_type": "code",
   "execution_count": 61,
   "metadata": {},
   "outputs": [
    {
     "data": {
      "text/plain": [
       "<matplotlib.collections.PathCollection at 0x22981eecf88>"
      ]
     },
     "execution_count": 61,
     "metadata": {},
     "output_type": "execute_result"
    },
    {
     "data": {
      "image/png": "[encoded data removed]",
      "text/plain": [
       "<Figure size 432x288 with 1 Axes>"
      ]
     },
     "metadata": {
      "needs_background": "light"
     },
     "output_type": "display_data"
    }
   ],
   "source": [
    "# Make cross validated predictions\n",
    "predictions = cross_val_predict(model, X1, Y1, cv=6)\n",
    "pre=pd.DataFrame(predictions)\n",
    "plt.scatter(Y1, pre)"
   ]
  },
  {
   "cell_type": "code",
   "execution_count": 64,
   "metadata": {},
   "outputs": [],
   "source": [
    "pickle.dump(model, open('models.pkl', 'wb'))"
   ]
  },
  {
   "cell_type": "code",
   "execution_count": null,
   "metadata": {},
   "outputs": [],
   "source": []
  }
 ],
 "metadata": {
  "colab": {
   "collapsed_sections": [],
   "name": "Untitled12.ipynb",
   "private_outputs": true,
   "provenance": []
  },
  "kernelspec": {
   "display_name": "Python 3",
   "language": "python",
   "name": "python3"
  },
  "language_info": {
   "codemirror_mode": {
    "name": "ipython",
    "version": 3
   },
   "file_extension": ".py",
   "mimetype": "text/x-python",
   "name": "python",
   "nbconvert_exporter": "python",
   "pygments_lexer": "ipython3",
   "version": "3.7.6"
  }
 },
 "nbformat": 4,
 "nbformat_minor": 1
}
